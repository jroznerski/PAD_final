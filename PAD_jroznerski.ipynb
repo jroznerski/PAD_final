{
 "cells": [
  {
   "cell_type": "markdown",
   "source": [
    "Wczytanie danych:"
   ],
   "metadata": {
    "collapsed": false
   }
  },
  {
   "cell_type": "code",
   "execution_count": 64,
   "outputs": [
    {
     "data": {
      "text/plain": "                   INC_DATE  INC_YEAR INC_TIME INC_DAY_WEEK INC_LOC_COUNTY  \\\nINC_IR_NO                                                                    \n202000002064678  13/01/2020      2020    20:40       Monday       825 Beat   \n202000000483210  20/03/2020      2020    19:35       Friday       931 Beat   \n202100000888204  08/06/2020      2020    10:37       Monday       223 Beat   \n202000001090896  01/07/2020      2020    06:30    Wednesday       815 Beat   \n202000001090896  01/07/2020      2020    06:30    Wednesday       815 Beat   \n\n                          HUNDRED_BLOCK INC_CITY INC_STATE INC_ZIPCODE  \\\nINC_IR_NO                                                                \n202000002064678  3XXX West Granada Road  Phoenix        AZ       85009   \n202000000483210   2XXX West Cactus Road  Phoenix        AZ       85029   \n202100000888204  1XXXX North 9th Avenue  Phoenix        AZ       85023   \n202000001090896      1XXX 73rd Avenue N  Phoenix        AZ       85035   \n202000001090896      1XXX 73rd Avenue N  Phoenix        AZ       85035   \n\n                               INC_PRECINCT  CIT_NUMBER CIT_GENDER CIT_AGE  \\\nINC_IR_NO                                                                    \n202000002064678  Maryvale/Estrella Precinct     24887.0       Male      21   \n202000000483210        Cactus Park Precinct     38867.0       Male      38   \n202100000888204     Black Mountain Precinct     33042.0       Male      40   \n202000001090896  Maryvale/Estrella Precinct     21798.0       Male      27   \n202000001090896  Maryvale/Estrella Precinct     21793.0       Male      16   \n\n                SUBJ_AGE_GROUP CIT_RACE CIT_ETHNICITY  \\\nINC_IR_NO                                               \n202000002064678            20s    White      Hispanic   \n202000000483210            30s    White      Hispanic   \n202100000888204            40s    White  Non-Hispanic   \n202000001090896            20s    White      Hispanic   \n202000001090896            <20    Black  Non-Hispanic   \n\n                        SIMPLE_SUBJ_RE_GRP   CITIZEN_CHARGE  PGP_COUNT  \nINC_IR_NO                                                               \n202000002064678                   Hispanic  Criminal Felony          1  \n202000000483210                   Hispanic  Criminal Felony          1  \n202100000888204                      White  Criminal Felony          1  \n202000001090896                   Hispanic             None          1  \n202000001090896  Black or African American             None          1  ",
      "text/html": "<div>\n<style scoped>\n    .dataframe tbody tr th:only-of-type {\n        vertical-align: middle;\n    }\n\n    .dataframe tbody tr th {\n        vertical-align: top;\n    }\n\n    .dataframe thead th {\n        text-align: right;\n    }\n</style>\n<table border=\"1\" class=\"dataframe\">\n  <thead>\n    <tr style=\"text-align: right;\">\n      <th></th>\n      <th>INC_DATE</th>\n      <th>INC_YEAR</th>\n      <th>INC_TIME</th>\n      <th>INC_DAY_WEEK</th>\n      <th>INC_LOC_COUNTY</th>\n      <th>HUNDRED_BLOCK</th>\n      <th>INC_CITY</th>\n      <th>INC_STATE</th>\n      <th>INC_ZIPCODE</th>\n      <th>INC_PRECINCT</th>\n      <th>CIT_NUMBER</th>\n      <th>CIT_GENDER</th>\n      <th>CIT_AGE</th>\n      <th>SUBJ_AGE_GROUP</th>\n      <th>CIT_RACE</th>\n      <th>CIT_ETHNICITY</th>\n      <th>SIMPLE_SUBJ_RE_GRP</th>\n      <th>CITIZEN_CHARGE</th>\n      <th>PGP_COUNT</th>\n    </tr>\n    <tr>\n      <th>INC_IR_NO</th>\n      <th></th>\n      <th></th>\n      <th></th>\n      <th></th>\n      <th></th>\n      <th></th>\n      <th></th>\n      <th></th>\n      <th></th>\n      <th></th>\n      <th></th>\n      <th></th>\n      <th></th>\n      <th></th>\n      <th></th>\n      <th></th>\n      <th></th>\n      <th></th>\n      <th></th>\n    </tr>\n  </thead>\n  <tbody>\n    <tr>\n      <th>202000002064678</th>\n      <td>13/01/2020</td>\n      <td>2020</td>\n      <td>20:40</td>\n      <td>Monday</td>\n      <td>825 Beat</td>\n      <td>3XXX West Granada Road</td>\n      <td>Phoenix</td>\n      <td>AZ</td>\n      <td>85009</td>\n      <td>Maryvale/Estrella Precinct</td>\n      <td>24887.0</td>\n      <td>Male</td>\n      <td>21</td>\n      <td>20s</td>\n      <td>White</td>\n      <td>Hispanic</td>\n      <td>Hispanic</td>\n      <td>Criminal Felony</td>\n      <td>1</td>\n    </tr>\n    <tr>\n      <th>202000000483210</th>\n      <td>20/03/2020</td>\n      <td>2020</td>\n      <td>19:35</td>\n      <td>Friday</td>\n      <td>931 Beat</td>\n      <td>2XXX West Cactus Road</td>\n      <td>Phoenix</td>\n      <td>AZ</td>\n      <td>85029</td>\n      <td>Cactus Park Precinct</td>\n      <td>38867.0</td>\n      <td>Male</td>\n      <td>38</td>\n      <td>30s</td>\n      <td>White</td>\n      <td>Hispanic</td>\n      <td>Hispanic</td>\n      <td>Criminal Felony</td>\n      <td>1</td>\n    </tr>\n    <tr>\n      <th>202100000888204</th>\n      <td>08/06/2020</td>\n      <td>2020</td>\n      <td>10:37</td>\n      <td>Monday</td>\n      <td>223 Beat</td>\n      <td>1XXXX North 9th Avenue</td>\n      <td>Phoenix</td>\n      <td>AZ</td>\n      <td>85023</td>\n      <td>Black Mountain Precinct</td>\n      <td>33042.0</td>\n      <td>Male</td>\n      <td>40</td>\n      <td>40s</td>\n      <td>White</td>\n      <td>Non-Hispanic</td>\n      <td>White</td>\n      <td>Criminal Felony</td>\n      <td>1</td>\n    </tr>\n    <tr>\n      <th>202000001090896</th>\n      <td>01/07/2020</td>\n      <td>2020</td>\n      <td>06:30</td>\n      <td>Wednesday</td>\n      <td>815 Beat</td>\n      <td>1XXX 73rd Avenue N</td>\n      <td>Phoenix</td>\n      <td>AZ</td>\n      <td>85035</td>\n      <td>Maryvale/Estrella Precinct</td>\n      <td>21798.0</td>\n      <td>Male</td>\n      <td>27</td>\n      <td>20s</td>\n      <td>White</td>\n      <td>Hispanic</td>\n      <td>Hispanic</td>\n      <td>None</td>\n      <td>1</td>\n    </tr>\n    <tr>\n      <th>202000001090896</th>\n      <td>01/07/2020</td>\n      <td>2020</td>\n      <td>06:30</td>\n      <td>Wednesday</td>\n      <td>815 Beat</td>\n      <td>1XXX 73rd Avenue N</td>\n      <td>Phoenix</td>\n      <td>AZ</td>\n      <td>85035</td>\n      <td>Maryvale/Estrella Precinct</td>\n      <td>21793.0</td>\n      <td>Male</td>\n      <td>16</td>\n      <td>&lt;20</td>\n      <td>Black</td>\n      <td>Non-Hispanic</td>\n      <td>Black or African American</td>\n      <td>None</td>\n      <td>1</td>\n    </tr>\n  </tbody>\n</table>\n</div>"
     },
     "execution_count": 64,
     "metadata": {},
     "output_type": "execute_result"
    }
   ],
   "source": [
    "import pandas as pd\n",
    "df = pd.read_csv(\"gun_pointed.csv\", delimiter=',', index_col='INC_IR_NO' )\n",
    "df['INC_DATE'] = pd.to_datetime(df['INC_DATE'], format='%m/%d/%Y').dt.strftime('%d/%m/%Y')\n",
    "df.head()"
   ],
   "metadata": {
    "collapsed": false,
    "ExecuteTime": {
     "start_time": "2023-06-21T20:41:52.211922Z",
     "end_time": "2023-06-21T20:41:52.365941Z"
    }
   }
  },
  {
   "cell_type": "markdown",
   "source": [
    "Sprawdzenie brakujących wartości i naprawa błędów występujących w Data Frame:"
   ],
   "metadata": {
    "collapsed": false
   }
  },
  {
   "cell_type": "code",
   "execution_count": 65,
   "outputs": [
    {
     "data": {
      "text/plain": "                   INC_DATE  INC_YEAR INC_TIME INC_DAY_WEEK INC_LOC_COUNTY  \\\nINC_IR_NO                                                                    \n202000002064678  13/01/2020      2020    20:40       Monday       825 Beat   \n202000000483210  20/03/2020      2020    19:35       Friday       931 Beat   \n202100000888204  08/06/2020      2020    10:37       Monday       223 Beat   \n202000001090896  01/07/2020      2020    06:30    Wednesday       815 Beat   \n202000001090896  01/07/2020      2020    06:30    Wednesday       815 Beat   \n\n                     HUNDRED_BLOCK INC_CITY INC_STATE  INC_ZIPCODE  \\\nINC_IR_NO                                                            \n202000002064678  West Granada Road  Phoenix        AZ      85009.0   \n202000000483210   West Cactus Road  Phoenix        AZ      85029.0   \n202100000888204   North 9th Avenue  Phoenix        AZ      85023.0   \n202000001090896      73rd Avenue N  Phoenix        AZ      85035.0   \n202000001090896      73rd Avenue N  Phoenix        AZ      85035.0   \n\n                               INC_PRECINCT  CIT_NUMBER CIT_GENDER  CIT_AGE  \\\nINC_IR_NO                                                                     \n202000002064678  Maryvale/Estrella Precinct     24887.0       Male     21.0   \n202000000483210        Cactus Park Precinct     38867.0       Male     38.0   \n202100000888204     Black Mountain Precinct     33042.0       Male     40.0   \n202000001090896  Maryvale/Estrella Precinct     21798.0       Male     27.0   \n202000001090896  Maryvale/Estrella Precinct     21793.0       Male     16.0   \n\n                SUBJ_AGE_GROUP CIT_RACE CIT_ETHNICITY  \\\nINC_IR_NO                                               \n202000002064678            20s    White      Hispanic   \n202000000483210            30s    White      Hispanic   \n202100000888204            40s    White  Non-Hispanic   \n202000001090896            20s    White      Hispanic   \n202000001090896            <20    Black  Non-Hispanic   \n\n                        SIMPLE_SUBJ_RE_GRP   CITIZEN_CHARGE  PGP_COUNT  \nINC_IR_NO                                                               \n202000002064678                   Hispanic  Criminal Felony          1  \n202000000483210                   Hispanic  Criminal Felony          1  \n202100000888204                      White  Criminal Felony          1  \n202000001090896                   Hispanic             None          1  \n202000001090896  Black or African American             None          1  ",
      "text/html": "<div>\n<style scoped>\n    .dataframe tbody tr th:only-of-type {\n        vertical-align: middle;\n    }\n\n    .dataframe tbody tr th {\n        vertical-align: top;\n    }\n\n    .dataframe thead th {\n        text-align: right;\n    }\n</style>\n<table border=\"1\" class=\"dataframe\">\n  <thead>\n    <tr style=\"text-align: right;\">\n      <th></th>\n      <th>INC_DATE</th>\n      <th>INC_YEAR</th>\n      <th>INC_TIME</th>\n      <th>INC_DAY_WEEK</th>\n      <th>INC_LOC_COUNTY</th>\n      <th>HUNDRED_BLOCK</th>\n      <th>INC_CITY</th>\n      <th>INC_STATE</th>\n      <th>INC_ZIPCODE</th>\n      <th>INC_PRECINCT</th>\n      <th>CIT_NUMBER</th>\n      <th>CIT_GENDER</th>\n      <th>CIT_AGE</th>\n      <th>SUBJ_AGE_GROUP</th>\n      <th>CIT_RACE</th>\n      <th>CIT_ETHNICITY</th>\n      <th>SIMPLE_SUBJ_RE_GRP</th>\n      <th>CITIZEN_CHARGE</th>\n      <th>PGP_COUNT</th>\n    </tr>\n    <tr>\n      <th>INC_IR_NO</th>\n      <th></th>\n      <th></th>\n      <th></th>\n      <th></th>\n      <th></th>\n      <th></th>\n      <th></th>\n      <th></th>\n      <th></th>\n      <th></th>\n      <th></th>\n      <th></th>\n      <th></th>\n      <th></th>\n      <th></th>\n      <th></th>\n      <th></th>\n      <th></th>\n      <th></th>\n    </tr>\n  </thead>\n  <tbody>\n    <tr>\n      <th>202000002064678</th>\n      <td>13/01/2020</td>\n      <td>2020</td>\n      <td>20:40</td>\n      <td>Monday</td>\n      <td>825 Beat</td>\n      <td>West Granada Road</td>\n      <td>Phoenix</td>\n      <td>AZ</td>\n      <td>85009.0</td>\n      <td>Maryvale/Estrella Precinct</td>\n      <td>24887.0</td>\n      <td>Male</td>\n      <td>21.0</td>\n      <td>20s</td>\n      <td>White</td>\n      <td>Hispanic</td>\n      <td>Hispanic</td>\n      <td>Criminal Felony</td>\n      <td>1</td>\n    </tr>\n    <tr>\n      <th>202000000483210</th>\n      <td>20/03/2020</td>\n      <td>2020</td>\n      <td>19:35</td>\n      <td>Friday</td>\n      <td>931 Beat</td>\n      <td>West Cactus Road</td>\n      <td>Phoenix</td>\n      <td>AZ</td>\n      <td>85029.0</td>\n      <td>Cactus Park Precinct</td>\n      <td>38867.0</td>\n      <td>Male</td>\n      <td>38.0</td>\n      <td>30s</td>\n      <td>White</td>\n      <td>Hispanic</td>\n      <td>Hispanic</td>\n      <td>Criminal Felony</td>\n      <td>1</td>\n    </tr>\n    <tr>\n      <th>202100000888204</th>\n      <td>08/06/2020</td>\n      <td>2020</td>\n      <td>10:37</td>\n      <td>Monday</td>\n      <td>223 Beat</td>\n      <td>North 9th Avenue</td>\n      <td>Phoenix</td>\n      <td>AZ</td>\n      <td>85023.0</td>\n      <td>Black Mountain Precinct</td>\n      <td>33042.0</td>\n      <td>Male</td>\n      <td>40.0</td>\n      <td>40s</td>\n      <td>White</td>\n      <td>Non-Hispanic</td>\n      <td>White</td>\n      <td>Criminal Felony</td>\n      <td>1</td>\n    </tr>\n    <tr>\n      <th>202000001090896</th>\n      <td>01/07/2020</td>\n      <td>2020</td>\n      <td>06:30</td>\n      <td>Wednesday</td>\n      <td>815 Beat</td>\n      <td>73rd Avenue N</td>\n      <td>Phoenix</td>\n      <td>AZ</td>\n      <td>85035.0</td>\n      <td>Maryvale/Estrella Precinct</td>\n      <td>21798.0</td>\n      <td>Male</td>\n      <td>27.0</td>\n      <td>20s</td>\n      <td>White</td>\n      <td>Hispanic</td>\n      <td>Hispanic</td>\n      <td>None</td>\n      <td>1</td>\n    </tr>\n    <tr>\n      <th>202000001090896</th>\n      <td>01/07/2020</td>\n      <td>2020</td>\n      <td>06:30</td>\n      <td>Wednesday</td>\n      <td>815 Beat</td>\n      <td>73rd Avenue N</td>\n      <td>Phoenix</td>\n      <td>AZ</td>\n      <td>85035.0</td>\n      <td>Maryvale/Estrella Precinct</td>\n      <td>21793.0</td>\n      <td>Male</td>\n      <td>16.0</td>\n      <td>&lt;20</td>\n      <td>Black</td>\n      <td>Non-Hispanic</td>\n      <td>Black or African American</td>\n      <td>None</td>\n      <td>1</td>\n    </tr>\n  </tbody>\n</table>\n</div>"
     },
     "execution_count": 65,
     "metadata": {},
     "output_type": "execute_result"
    }
   ],
   "source": [
    "df['CIT_RACE'] = df['CIT_RACE'].replace('Not Available', 'Unknown')\n",
    "df['INC_ZIPCODE'] = df['INC_ZIPCODE'].replace('Not Available', float('NaN')).astype(float)\n",
    "df['INC_CITY'] = df['INC_CITY'].str.title()\n",
    "df['INC_CITY'] = df['INC_CITY'].replace(['Phx', 'Phoeix', 'Phoeniz', 'Phoenx', 'Pheonix', 'Phoenxi', 'Phoneix'], 'Phoenix')\n",
    "df['CIT_AGE'] = df['CIT_AGE'].replace('Not Available', float('NaN')).astype(float)\n",
    "df = df.drop(df[(df['CIT_AGE'] == 31.8) | (df['CIT_AGE'] == 121)].index)\n",
    "df = df[df['CIT_AGE'] >= 14.0]\n",
    "df['CIT_AGE'].fillna(round(df['CIT_AGE'].mean(), 1), inplace=True)\n",
    "df['HUNDRED_BLOCK'] = df['HUNDRED_BLOCK'].str.split(' ', n=1).str[1]\n",
    "df = df[df['CIT_GENDER'] != 'Not Available']\n",
    "df['INC_CITY'] = df['INC_CITY'].replace('Not Available', 'Unknown')\n",
    "df['INC_PRECINCT'] = df['INC_PRECINCT'].replace('Not Available', 'Unknown')\n",
    "df.head()"
   ],
   "metadata": {
    "collapsed": false,
    "ExecuteTime": {
     "start_time": "2023-06-21T20:41:52.373937Z",
     "end_time": "2023-06-21T20:41:52.577984Z"
    }
   }
  },
  {
   "cell_type": "code",
   "execution_count": 66,
   "outputs": [
    {
     "name": "stdout",
     "output_type": "stream",
     "text": [
      "<class 'pandas.core.frame.DataFrame'>\n",
      "Index: 11709 entries, 202000002064678 to 202300000320461\n",
      "Data columns (total 19 columns):\n",
      " #   Column              Non-Null Count  Dtype  \n",
      "---  ------              --------------  -----  \n",
      " 0   INC_DATE            11709 non-null  object \n",
      " 1   INC_YEAR            11709 non-null  int64  \n",
      " 2   INC_TIME            11709 non-null  object \n",
      " 3   INC_DAY_WEEK        11709 non-null  object \n",
      " 4   INC_LOC_COUNTY      11709 non-null  object \n",
      " 5   HUNDRED_BLOCK       11709 non-null  object \n",
      " 6   INC_CITY            11709 non-null  object \n",
      " 7   INC_STATE           11709 non-null  object \n",
      " 8   INC_ZIPCODE         11168 non-null  float64\n",
      " 9   INC_PRECINCT        11709 non-null  object \n",
      " 10  CIT_NUMBER          11709 non-null  float64\n",
      " 11  CIT_GENDER          11709 non-null  object \n",
      " 12  CIT_AGE             11709 non-null  float64\n",
      " 13  SUBJ_AGE_GROUP      11709 non-null  object \n",
      " 14  CIT_RACE            11709 non-null  object \n",
      " 15  CIT_ETHNICITY       11709 non-null  object \n",
      " 16  SIMPLE_SUBJ_RE_GRP  11709 non-null  object \n",
      " 17  CITIZEN_CHARGE      11709 non-null  object \n",
      " 18  PGP_COUNT           11709 non-null  int64  \n",
      "dtypes: float64(3), int64(2), object(14)\n",
      "memory usage: 1.8+ MB\n"
     ]
    }
   ],
   "source": [
    "df.info()"
   ],
   "metadata": {
    "collapsed": false,
    "ExecuteTime": {
     "start_time": "2023-06-21T20:41:52.484953Z",
     "end_time": "2023-06-21T20:41:52.578953Z"
    }
   }
  },
  {
   "cell_type": "code",
   "execution_count": 67,
   "outputs": [
    {
     "data": {
      "text/plain": "           INC_YEAR    INC_ZIPCODE    CIT_NUMBER       CIT_AGE  PGP_COUNT\ncount  11709.000000   11168.000000  11709.000000  11709.000000    11709.0\nmean    2021.385942   85490.778116  31416.138270     32.139209        1.0\nstd        0.876706   18539.975704   6666.149483     11.649986        0.0\nmin     2020.000000   84042.000000    399.000000     14.000000        1.0\n25%     2021.000000   85015.000000  25717.000000     23.000000        1.0\n50%     2021.000000   85029.000000  31103.000000     30.000000        1.0\n75%     2022.000000   85041.000000  37066.000000     39.000000        1.0\nmax     2023.000000  885032.000000  44396.000000     91.000000        1.0",
      "text/html": "<div>\n<style scoped>\n    .dataframe tbody tr th:only-of-type {\n        vertical-align: middle;\n    }\n\n    .dataframe tbody tr th {\n        vertical-align: top;\n    }\n\n    .dataframe thead th {\n        text-align: right;\n    }\n</style>\n<table border=\"1\" class=\"dataframe\">\n  <thead>\n    <tr style=\"text-align: right;\">\n      <th></th>\n      <th>INC_YEAR</th>\n      <th>INC_ZIPCODE</th>\n      <th>CIT_NUMBER</th>\n      <th>CIT_AGE</th>\n      <th>PGP_COUNT</th>\n    </tr>\n  </thead>\n  <tbody>\n    <tr>\n      <th>count</th>\n      <td>11709.000000</td>\n      <td>11168.000000</td>\n      <td>11709.000000</td>\n      <td>11709.000000</td>\n      <td>11709.0</td>\n    </tr>\n    <tr>\n      <th>mean</th>\n      <td>2021.385942</td>\n      <td>85490.778116</td>\n      <td>31416.138270</td>\n      <td>32.139209</td>\n      <td>1.0</td>\n    </tr>\n    <tr>\n      <th>std</th>\n      <td>0.876706</td>\n      <td>18539.975704</td>\n      <td>6666.149483</td>\n      <td>11.649986</td>\n      <td>0.0</td>\n    </tr>\n    <tr>\n      <th>min</th>\n      <td>2020.000000</td>\n      <td>84042.000000</td>\n      <td>399.000000</td>\n      <td>14.000000</td>\n      <td>1.0</td>\n    </tr>\n    <tr>\n      <th>25%</th>\n      <td>2021.000000</td>\n      <td>85015.000000</td>\n      <td>25717.000000</td>\n      <td>23.000000</td>\n      <td>1.0</td>\n    </tr>\n    <tr>\n      <th>50%</th>\n      <td>2021.000000</td>\n      <td>85029.000000</td>\n      <td>31103.000000</td>\n      <td>30.000000</td>\n      <td>1.0</td>\n    </tr>\n    <tr>\n      <th>75%</th>\n      <td>2022.000000</td>\n      <td>85041.000000</td>\n      <td>37066.000000</td>\n      <td>39.000000</td>\n      <td>1.0</td>\n    </tr>\n    <tr>\n      <th>max</th>\n      <td>2023.000000</td>\n      <td>885032.000000</td>\n      <td>44396.000000</td>\n      <td>91.000000</td>\n      <td>1.0</td>\n    </tr>\n  </tbody>\n</table>\n</div>"
     },
     "execution_count": 67,
     "metadata": {},
     "output_type": "execute_result"
    }
   ],
   "source": [
    "df.describe()"
   ],
   "metadata": {
    "collapsed": false,
    "ExecuteTime": {
     "start_time": "2023-06-21T20:41:52.511954Z",
     "end_time": "2023-06-21T20:41:52.578953Z"
    }
   }
  },
  {
   "cell_type": "code",
   "execution_count": 70,
   "outputs": [
    {
     "name": "stdout",
     "output_type": "stream",
     "text": [
      "Brakujące wartości w zbiorze treningowym:\n",
      "INC_YEAR          0\n",
      "CIT_AGE           0\n",
      "INC_DAY_WEEK      0\n",
      "INC_LOC_COUNTY    0\n",
      "INC_CITY          0\n",
      "INC_PRECINCT      0\n",
      "CIT_GENDER        0\n",
      "SUBJ_AGE_GROUP    0\n",
      "CITIZEN_CHARGE    0\n",
      "dtype: int64\n",
      "Brakujące wartości w zbiorze testowym:\n",
      "INC_YEAR          0\n",
      "CIT_AGE           0\n",
      "INC_DAY_WEEK      0\n",
      "INC_LOC_COUNTY    0\n",
      "INC_CITY          0\n",
      "INC_PRECINCT      0\n",
      "CIT_GENDER        0\n",
      "SUBJ_AGE_GROUP    0\n",
      "CITIZEN_CHARGE    0\n",
      "dtype: int64\n"
     ]
    }
   ],
   "source": [
    "missing_values_train = X_train.isnull().sum()\n",
    "print(\"Brakujące wartości w zbiorze treningowym:\")\n",
    "print(missing_values_train)\n",
    "\n",
    "missing_values_test = X_test.isnull().sum()\n",
    "print(\"Brakujące wartości w zbiorze testowym:\")\n",
    "print(missing_values_test)"
   ],
   "metadata": {
    "collapsed": false,
    "ExecuteTime": {
     "start_time": "2023-06-21T20:42:26.636708Z",
     "end_time": "2023-06-21T20:42:26.664704Z"
    }
   }
  },
  {
   "cell_type": "markdown",
   "source": [
    "Wybór modelu:"
   ],
   "metadata": {
    "collapsed": false
   }
  },
  {
   "cell_type": "code",
   "execution_count": 68,
   "outputs": [
    {
     "name": "stdout",
     "output_type": "stream",
     "text": [
      "Model: Random Forest\n",
      "Średnie MSE: 1.49\n",
      "Średnie MAE: 0.95\n",
      "----------------------------------------\n",
      "Model: Gradient Boosting\n",
      "Średnie MSE: 1.17\n",
      "Średnie MAE: 0.90\n",
      "----------------------------------------\n",
      "Model: Linear Regression\n",
      "Średnie MSE: 1.11\n",
      "Średnie MAE: 0.85\n",
      "----------------------------------------\n",
      "MSE na zbiorze testowym: 1.16\n",
      "MAE na zbiorze testowym: 0.79\n",
      "F1 miara: 0.31\n",
      "Dokładność: 0.40\n",
      "Precyzja: 0.51\n",
      "Czułość: 0.40\n"
     ]
    }
   ],
   "source": [
    "import numpy as np\n",
    "from sklearn.ensemble import RandomForestRegressor, GradientBoostingRegressor\n",
    "from sklearn.linear_model import LinearRegression\n",
    "from sklearn.model_selection import train_test_split, cross_val_score\n",
    "from sklearn.metrics import accuracy_score, precision_score, recall_score, f1_score, mean_squared_error, mean_absolute_error\n",
    "from sklearn.preprocessing import StandardScaler, OneHotEncoder, LabelEncoder\n",
    "from sklearn.compose import ColumnTransformer\n",
    "from sklearn.exceptions import UndefinedMetricWarning\n",
    "import warnings\n",
    "\n",
    "warnings.filterwarnings(\"ignore\", category=UndefinedMetricWarning)\n",
    "\n",
    "numeric_features = ['INC_YEAR', 'CIT_AGE']\n",
    "\n",
    "categorical_features = ['INC_DAY_WEEK', 'INC_CITY',\n",
    "                        'INC_PRECINCT', 'CIT_GENDER', 'SUBJ_AGE_GROUP', 'CITIZEN_CHARGE']\n",
    "\n",
    "preprocessor = ColumnTransformer(\n",
    "    transformers=[\n",
    "        ('num', StandardScaler(), numeric_features),\n",
    "        ('cat', OneHotEncoder(handle_unknown='ignore'), categorical_features)])\n",
    "\n",
    "X = df[numeric_features + categorical_features]\n",
    "y = df['SIMPLE_SUBJ_RE_GRP']\n",
    "\n",
    "label_encoder = LabelEncoder()\n",
    "y_encoded = label_encoder.fit_transform(y)\n",
    "\n",
    "X_train, X_test, y_train, y_test = train_test_split(X, y_encoded, test_size=0.2, random_state=1)\n",
    "\n",
    "X_train_preprocessed = preprocessor.fit_transform(X_train)\n",
    "X_test_preprocessed = preprocessor.transform(X_test)\n",
    "\n",
    "models = [\n",
    "    ('Random Forest', RandomForestRegressor(n_estimators=5, random_state=1)),\n",
    "    ('Gradient Boosting', GradientBoostingRegressor(n_estimators=5, random_state=1)),\n",
    "    ('Linear Regression', LinearRegression())\n",
    "]\n",
    "\n",
    "for model_name, model in models:\n",
    "    mse_scores = -cross_val_score(model, X_train_preprocessed, y_train, cv=5, scoring='neg_mean_squared_error')\n",
    "    mae_scores = -cross_val_score(model, X_train_preprocessed, y_train, cv=5, scoring='neg_mean_absolute_error')\n",
    "\n",
    "    mean_mse = mse_scores.mean()\n",
    "    mean_mae = mae_scores.mean()\n",
    "\n",
    "    print(\"Model: {}\".format(model_name))\n",
    "    print(\"Średnie MSE: {:.2f}\".format(mean_mse))\n",
    "    print(\"Średnie MAE: {:.2f}\".format(mean_mae))\n",
    "    print(\"----------------------------------------\")\n",
    "\n",
    "best_model = LinearRegression()\n",
    "best_model.fit(X_train_preprocessed, y_train)\n",
    "\n",
    "y_pred = best_model.predict(X_test_preprocessed)\n",
    "y_pred_rounded = np.round(y_pred)\n",
    "\n",
    "mse = mean_squared_error(y_test, y_pred_rounded)\n",
    "mae = mean_absolute_error(y_test, y_pred_rounded)\n",
    "f1 = f1_score(y_test, y_pred_rounded, average='weighted')\n",
    "accuracy = accuracy_score(y_test, y_pred_rounded)\n",
    "precision = precision_score(y_test, y_pred_rounded, average='weighted')\n",
    "recall = recall_score(y_test, y_pred_rounded, average='weighted')\n",
    "\n",
    "print(\"MSE na zbiorze testowym: {:.2f}\".format(mse))\n",
    "print(\"MAE na zbiorze testowym: {:.2f}\".format(mae))\n",
    "print(\"F1 miara: {:.2f}\".format(f1))\n",
    "print(\"Dokładność: {:.2f}\".format(accuracy))\n",
    "print(\"Precyzja: {:.2f}\".format(precision))\n",
    "print(\"Czułość: {:.2f}\".format(recall))"
   ],
   "metadata": {
    "collapsed": false,
    "ExecuteTime": {
     "start_time": "2023-06-21T20:41:52.550953Z"
    }
   }
  },
  {
   "cell_type": "markdown",
   "source": [
    "Zmiana walidacji krzyżowej:"
   ],
   "metadata": {
    "collapsed": false
   }
  },
  {
   "cell_type": "code",
   "execution_count": 69,
   "outputs": [
    {
     "name": "stdout",
     "output_type": "stream",
     "text": [
      "Model: Random Forest\n",
      "Średnie MSE: 1.35\n",
      "Średnie MAE: 0.90\n",
      "----------------------------------------\n",
      "Model: Gradient Boosting\n",
      "Średnie MSE: 1.17\n",
      "Średnie MAE: 0.91\n",
      "----------------------------------------\n",
      "Model: Linear Regression\n",
      "Średnie MSE: 1.08\n",
      "Średnie MAE: 0.83\n",
      "----------------------------------------\n",
      "MSE na zbiorze testowym: 1.15\n",
      "MAE na zbiorze testowym: 0.78\n",
      "F1 miara: 0.32\n",
      "Dokładność: 0.41\n",
      "Precyzja: 0.53\n",
      "Czułość: 0.41\n"
     ]
    }
   ],
   "source": [
    "warnings.filterwarnings(\"ignore\", category=UndefinedMetricWarning)\n",
    "\n",
    "numeric_features = ['INC_YEAR', 'CIT_AGE']\n",
    "\n",
    "categorical_features = ['INC_DAY_WEEK', 'INC_LOC_COUNTY', 'INC_CITY',\n",
    "                        'INC_PRECINCT', 'CIT_GENDER', 'SUBJ_AGE_GROUP', 'CITIZEN_CHARGE']\n",
    "\n",
    "preprocessor = ColumnTransformer(\n",
    "    transformers=[\n",
    "        ('num', StandardScaler(), numeric_features),\n",
    "        ('cat', OneHotEncoder(handle_unknown='ignore'), categorical_features)])\n",
    "\n",
    "X = df[numeric_features + categorical_features]\n",
    "y = df['SIMPLE_SUBJ_RE_GRP']\n",
    "\n",
    "label_encoder = LabelEncoder()\n",
    "y_encoded = label_encoder.fit_transform(y)\n",
    "\n",
    "X_train, X_test, y_train, y_test = train_test_split(X, y_encoded, test_size=0.2, random_state=1)\n",
    "\n",
    "X_train_preprocessed = preprocessor.fit_transform(X_train)\n",
    "X_test_preprocessed = preprocessor.transform(X_test)\n",
    "\n",
    "models = [\n",
    "    ('Random Forest', RandomForestRegressor(n_estimators=5, random_state=1)),\n",
    "    ('Gradient Boosting', GradientBoostingRegressor(n_estimators=5, random_state=1)),\n",
    "    ('Linear Regression', LinearRegression())\n",
    "]\n",
    "\n",
    "for model_name, model in models:\n",
    "    mse_scores = -cross_val_score(model, X_train_preprocessed, y_train, cv=10, scoring='neg_mean_squared_error')\n",
    "    mae_scores = -cross_val_score(model, X_train_preprocessed, y_train, cv=10, scoring='neg_mean_absolute_error')\n",
    "\n",
    "    mean_mse = mse_scores.mean()\n",
    "    mean_mae = mae_scores.mean()\n",
    "\n",
    "    print(\"Model: {}\".format(model_name))\n",
    "    print(\"Średnie MSE: {:.2f}\".format(mean_mse))\n",
    "    print(\"Średnie MAE: {:.2f}\".format(mean_mae))\n",
    "    print(\"----------------------------------------\")\n",
    "\n",
    "best_model = LinearRegression()\n",
    "best_model.fit(X_train_preprocessed, y_train)\n",
    "\n",
    "y_pred = best_model.predict(X_test_preprocessed)\n",
    "y_pred_rounded = np.round(y_pred)\n",
    "\n",
    "mse = mean_squared_error(y_test, y_pred_rounded)\n",
    "mae = mean_absolute_error(y_test, y_pred_rounded)\n",
    "f1 = f1_score(y_test, y_pred_rounded, average='weighted')\n",
    "accuracy = accuracy_score(y_test, y_pred_rounded)\n",
    "precision = precision_score(y_test, y_pred_rounded, average='weighted')\n",
    "recall = recall_score(y_test, y_pred_rounded, average='weighted')\n",
    "\n",
    "print(\"MSE na zbiorze testowym: {:.2f}\".format(mse))\n",
    "print(\"MAE na zbiorze testowym: {:.2f}\".format(mae))\n",
    "print(\"F1 miara: {:.2f}\".format(f1))\n",
    "print(\"Dokładność: {:.2f}\".format(accuracy))\n",
    "print(\"Precyzja: {:.2f}\".format(precision))\n",
    "print(\"Czułość: {:.2f}\".format(recall))"
   ],
   "metadata": {
    "collapsed": false,
    "ExecuteTime": {
     "start_time": "2023-06-21T20:41:59.813856Z"
    }
   }
  },
  {
   "cell_type": "markdown",
   "source": [
    "Optymalizacja modelu:"
   ],
   "metadata": {
    "collapsed": false
   }
  },
  {
   "cell_type": "code",
   "execution_count": 71,
   "outputs": [
    {
     "name": "stdout",
     "output_type": "stream",
     "text": [
      "Najlepsze parametry:  {'fit_intercept': False}\n",
      "MSE na zbiorze testowym: 1.08\n",
      "MAE na zbiorze testowym: 0.83\n"
     ]
    }
   ],
   "source": [
    "from sklearn.model_selection import GridSearchCV\n",
    "\n",
    "param_grid = {\n",
    "    'fit_intercept': [True, False]\n",
    "}\n",
    "\n",
    "model = LinearRegression()\n",
    "\n",
    "grid_search = GridSearchCV(model, param_grid, cv=5, scoring='neg_mean_squared_error')\n",
    "\n",
    "grid_search.fit(X_train_preprocessed, y_train)\n",
    "\n",
    "best_params = grid_search.best_params_\n",
    "print(\"Najlepsze parametry: \", best_params)\n",
    "\n",
    "best_model = LinearRegression(**best_params)\n",
    "\n",
    "best_model.fit(X_train_preprocessed, y_train)\n",
    "\n",
    "y_pred = best_model.predict(X_test_preprocessed)\n",
    "\n",
    "mse = mean_squared_error(y_test, y_pred)\n",
    "mae = mean_absolute_error(y_test, y_pred)\n",
    "\n",
    "print(\"MSE na zbiorze testowym: {:.2f}\".format(mse))\n",
    "print(\"MAE na zbiorze testowym: {:.2f}\".format(mae))"
   ],
   "metadata": {
    "collapsed": false,
    "ExecuteTime": {
     "start_time": "2023-06-21T20:42:26.669704Z",
     "end_time": "2023-06-21T20:42:28.038732Z"
    }
   }
  },
  {
   "cell_type": "markdown",
   "source": [
    "Ważność atrybutów:"
   ],
   "metadata": {
    "collapsed": false
   }
  },
  {
   "cell_type": "code",
   "execution_count": 72,
   "outputs": [
    {
     "name": "stdout",
     "output_type": "stream",
     "text": [
      "Atrybut: INC_CITY, Waga: 0.30316675041328617\n",
      "Atrybut: SUBJ_AGE_GROUP, Waga: 0.2950734332384187\n",
      "Atrybut: CITIZEN_CHARGE, Waga: 0.2249427263964629\n",
      "Atrybut: CIT_AGE, Waga: 0.19536129306859282\n",
      "Atrybut: CIT_GENDER, Waga: 0.18540657342339573\n",
      "Atrybut: INC_PRECINCT, Waga: 0.1794823892662972\n",
      "Atrybut: INC_DAY_WEEK, Waga: 0.16829859468622782\n",
      "Atrybut: INC_LOC_COUNTY, Waga: 0.16383672514491557\n",
      "Atrybut: INC_YEAR, Waga: -0.00433211161189493\n"
     ]
    }
   ],
   "source": [
    "best_model.fit(X_train_preprocessed, y_train)\n",
    "\n",
    "feature_importance = best_model.coef_\n",
    "\n",
    "feature_importance_dict = dict(zip(X_train.columns, feature_importance))\n",
    "\n",
    "for feature, importance in sorted(feature_importance_dict.items(), key=lambda x: abs(x[1]), reverse=True):\n",
    "    print(f\"Atrybut: {feature}, Waga: {importance}\")"
   ],
   "metadata": {
    "collapsed": false,
    "ExecuteTime": {
     "start_time": "2023-06-21T20:42:28.043704Z",
     "end_time": "2023-06-21T20:42:28.179705Z"
    }
   }
  }
 ],
 "metadata": {
  "kernelspec": {
   "display_name": "Python 3",
   "language": "python",
   "name": "python3"
  },
  "language_info": {
   "codemirror_mode": {
    "name": "ipython",
    "version": 2
   },
   "file_extension": ".py",
   "mimetype": "text/x-python",
   "name": "python",
   "nbconvert_exporter": "python",
   "pygments_lexer": "ipython2",
   "version": "2.7.6"
  }
 },
 "nbformat": 4,
 "nbformat_minor": 0
}
