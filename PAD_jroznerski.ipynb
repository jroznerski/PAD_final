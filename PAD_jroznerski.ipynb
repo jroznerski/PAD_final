{
 "cells": [
  {
   "cell_type": "markdown",
   "source": [
    "Wczytanie danych:"
   ],
   "metadata": {
    "collapsed": false
   }
  },
  {
   "cell_type": "code",
   "execution_count": 1,
   "outputs": [
    {
     "data": {
      "text/plain": "                   INC_DATE  INC_YEAR INC_TIME INC_DAY_WEEK INC_LOC_COUNTY  \\\nINC_IR_NO                                                                    \n202000002064678  13/01/2020      2020    20:40       Monday       825 Beat   \n202000000483210  20/03/2020      2020    19:35       Friday       931 Beat   \n202100000888204  08/06/2020      2020    10:37       Monday       223 Beat   \n202000001090896  01/07/2020      2020    06:30    Wednesday       815 Beat   \n202000001090896  01/07/2020      2020    06:30    Wednesday       815 Beat   \n\n                          HUNDRED_BLOCK INC_CITY INC_STATE INC_ZIPCODE  \\\nINC_IR_NO                                                                \n202000002064678  3XXX West Granada Road  Phoenix        AZ       85009   \n202000000483210   2XXX West Cactus Road  Phoenix        AZ       85029   \n202100000888204  1XXXX North 9th Avenue  Phoenix        AZ       85023   \n202000001090896      1XXX 73rd Avenue N  Phoenix        AZ       85035   \n202000001090896      1XXX 73rd Avenue N  Phoenix        AZ       85035   \n\n                               INC_PRECINCT  CIT_NUMBER CIT_GENDER CIT_AGE  \\\nINC_IR_NO                                                                    \n202000002064678  Maryvale/Estrella Precinct     24887.0       Male      21   \n202000000483210        Cactus Park Precinct     38867.0       Male      38   \n202100000888204     Black Mountain Precinct     33042.0       Male      40   \n202000001090896  Maryvale/Estrella Precinct     21798.0       Male      27   \n202000001090896  Maryvale/Estrella Precinct     21793.0       Male      16   \n\n                SUBJ_AGE_GROUP CIT_RACE CIT_ETHNICITY  \\\nINC_IR_NO                                               \n202000002064678            20s    White      Hispanic   \n202000000483210            30s    White      Hispanic   \n202100000888204            40s    White  Non-Hispanic   \n202000001090896            20s    White      Hispanic   \n202000001090896            <20    Black  Non-Hispanic   \n\n                        SIMPLE_SUBJ_RE_GRP   CITIZEN_CHARGE  PGP_COUNT  \nINC_IR_NO                                                               \n202000002064678                   Hispanic  Criminal Felony          1  \n202000000483210                   Hispanic  Criminal Felony          1  \n202100000888204                      White  Criminal Felony          1  \n202000001090896                   Hispanic             None          1  \n202000001090896  Black or African American             None          1  ",
      "text/html": "<div>\n<style scoped>\n    .dataframe tbody tr th:only-of-type {\n        vertical-align: middle;\n    }\n\n    .dataframe tbody tr th {\n        vertical-align: top;\n    }\n\n    .dataframe thead th {\n        text-align: right;\n    }\n</style>\n<table border=\"1\" class=\"dataframe\">\n  <thead>\n    <tr style=\"text-align: right;\">\n      <th></th>\n      <th>INC_DATE</th>\n      <th>INC_YEAR</th>\n      <th>INC_TIME</th>\n      <th>INC_DAY_WEEK</th>\n      <th>INC_LOC_COUNTY</th>\n      <th>HUNDRED_BLOCK</th>\n      <th>INC_CITY</th>\n      <th>INC_STATE</th>\n      <th>INC_ZIPCODE</th>\n      <th>INC_PRECINCT</th>\n      <th>CIT_NUMBER</th>\n      <th>CIT_GENDER</th>\n      <th>CIT_AGE</th>\n      <th>SUBJ_AGE_GROUP</th>\n      <th>CIT_RACE</th>\n      <th>CIT_ETHNICITY</th>\n      <th>SIMPLE_SUBJ_RE_GRP</th>\n      <th>CITIZEN_CHARGE</th>\n      <th>PGP_COUNT</th>\n    </tr>\n    <tr>\n      <th>INC_IR_NO</th>\n      <th></th>\n      <th></th>\n      <th></th>\n      <th></th>\n      <th></th>\n      <th></th>\n      <th></th>\n      <th></th>\n      <th></th>\n      <th></th>\n      <th></th>\n      <th></th>\n      <th></th>\n      <th></th>\n      <th></th>\n      <th></th>\n      <th></th>\n      <th></th>\n      <th></th>\n    </tr>\n  </thead>\n  <tbody>\n    <tr>\n      <th>202000002064678</th>\n      <td>13/01/2020</td>\n      <td>2020</td>\n      <td>20:40</td>\n      <td>Monday</td>\n      <td>825 Beat</td>\n      <td>3XXX West Granada Road</td>\n      <td>Phoenix</td>\n      <td>AZ</td>\n      <td>85009</td>\n      <td>Maryvale/Estrella Precinct</td>\n      <td>24887.0</td>\n      <td>Male</td>\n      <td>21</td>\n      <td>20s</td>\n      <td>White</td>\n      <td>Hispanic</td>\n      <td>Hispanic</td>\n      <td>Criminal Felony</td>\n      <td>1</td>\n    </tr>\n    <tr>\n      <th>202000000483210</th>\n      <td>20/03/2020</td>\n      <td>2020</td>\n      <td>19:35</td>\n      <td>Friday</td>\n      <td>931 Beat</td>\n      <td>2XXX West Cactus Road</td>\n      <td>Phoenix</td>\n      <td>AZ</td>\n      <td>85029</td>\n      <td>Cactus Park Precinct</td>\n      <td>38867.0</td>\n      <td>Male</td>\n      <td>38</td>\n      <td>30s</td>\n      <td>White</td>\n      <td>Hispanic</td>\n      <td>Hispanic</td>\n      <td>Criminal Felony</td>\n      <td>1</td>\n    </tr>\n    <tr>\n      <th>202100000888204</th>\n      <td>08/06/2020</td>\n      <td>2020</td>\n      <td>10:37</td>\n      <td>Monday</td>\n      <td>223 Beat</td>\n      <td>1XXXX North 9th Avenue</td>\n      <td>Phoenix</td>\n      <td>AZ</td>\n      <td>85023</td>\n      <td>Black Mountain Precinct</td>\n      <td>33042.0</td>\n      <td>Male</td>\n      <td>40</td>\n      <td>40s</td>\n      <td>White</td>\n      <td>Non-Hispanic</td>\n      <td>White</td>\n      <td>Criminal Felony</td>\n      <td>1</td>\n    </tr>\n    <tr>\n      <th>202000001090896</th>\n      <td>01/07/2020</td>\n      <td>2020</td>\n      <td>06:30</td>\n      <td>Wednesday</td>\n      <td>815 Beat</td>\n      <td>1XXX 73rd Avenue N</td>\n      <td>Phoenix</td>\n      <td>AZ</td>\n      <td>85035</td>\n      <td>Maryvale/Estrella Precinct</td>\n      <td>21798.0</td>\n      <td>Male</td>\n      <td>27</td>\n      <td>20s</td>\n      <td>White</td>\n      <td>Hispanic</td>\n      <td>Hispanic</td>\n      <td>None</td>\n      <td>1</td>\n    </tr>\n    <tr>\n      <th>202000001090896</th>\n      <td>01/07/2020</td>\n      <td>2020</td>\n      <td>06:30</td>\n      <td>Wednesday</td>\n      <td>815 Beat</td>\n      <td>1XXX 73rd Avenue N</td>\n      <td>Phoenix</td>\n      <td>AZ</td>\n      <td>85035</td>\n      <td>Maryvale/Estrella Precinct</td>\n      <td>21793.0</td>\n      <td>Male</td>\n      <td>16</td>\n      <td>&lt;20</td>\n      <td>Black</td>\n      <td>Non-Hispanic</td>\n      <td>Black or African American</td>\n      <td>None</td>\n      <td>1</td>\n    </tr>\n  </tbody>\n</table>\n</div>"
     },
     "execution_count": 1,
     "metadata": {},
     "output_type": "execute_result"
    }
   ],
   "source": [
    "import pandas as pd\n",
    "df = pd.read_csv(\"pgp_pointed-gun-at-person-details_pgpdetail.csv\", delimiter=',', index_col='INC_IR_NO' )\n",
    "df['INC_DATE'] = pd.to_datetime(df['INC_DATE'], format='%m/%d/%Y').dt.strftime('%d/%m/%Y')\n",
    "df.head()"
   ],
   "metadata": {
    "collapsed": false,
    "ExecuteTime": {
     "start_time": "2023-06-18T13:55:02.483294Z",
     "end_time": "2023-06-18T13:55:02.640293Z"
    }
   }
  },
  {
   "cell_type": "markdown",
   "source": [
    "Sprawdzenie brakujących wartości i naprawa błędów występujących w Data Frame:"
   ],
   "metadata": {
    "collapsed": false
   }
  },
  {
   "cell_type": "code",
   "execution_count": 2,
   "outputs": [
    {
     "data": {
      "text/plain": "                   INC_DATE  INC_YEAR INC_TIME INC_DAY_WEEK INC_LOC_COUNTY  \\\nINC_IR_NO                                                                    \n202000002064678  13/01/2020      2020    20:40       Monday       825 Beat   \n202000000483210  20/03/2020      2020    19:35       Friday       931 Beat   \n202100000888204  08/06/2020      2020    10:37       Monday       223 Beat   \n202000001090896  01/07/2020      2020    06:30    Wednesday       815 Beat   \n202000001090896  01/07/2020      2020    06:30    Wednesday       815 Beat   \n\n                          HUNDRED_BLOCK INC_CITY INC_STATE INC_ZIPCODE  \\\nINC_IR_NO                                                                \n202000002064678  3XXX West Granada Road  Phoenix        AZ       85009   \n202000000483210   2XXX West Cactus Road  Phoenix        AZ       85029   \n202100000888204  1XXXX North 9th Avenue  Phoenix        AZ       85023   \n202000001090896      1XXX 73rd Avenue N  Phoenix        AZ       85035   \n202000001090896      1XXX 73rd Avenue N  Phoenix        AZ       85035   \n\n                               INC_PRECINCT  CIT_NUMBER CIT_GENDER  CIT_AGE  \\\nINC_IR_NO                                                                     \n202000002064678  Maryvale/Estrella Precinct     24887.0       Male     21.0   \n202000000483210        Cactus Park Precinct     38867.0       Male     38.0   \n202100000888204     Black Mountain Precinct     33042.0       Male     40.0   \n202000001090896  Maryvale/Estrella Precinct     21798.0       Male     27.0   \n202000001090896  Maryvale/Estrella Precinct     21793.0       Male     16.0   \n\n                SUBJ_AGE_GROUP CIT_RACE CIT_ETHNICITY  \\\nINC_IR_NO                                               \n202000002064678            20s    White      Hispanic   \n202000000483210            30s    White      Hispanic   \n202100000888204            40s    White  Non-Hispanic   \n202000001090896            20s    White      Hispanic   \n202000001090896            <20    Black  Non-Hispanic   \n\n                        SIMPLE_SUBJ_RE_GRP   CITIZEN_CHARGE  PGP_COUNT  \nINC_IR_NO                                                               \n202000002064678                   Hispanic  Criminal Felony          1  \n202000000483210                   Hispanic  Criminal Felony          1  \n202100000888204                      White  Criminal Felony          1  \n202000001090896                   Hispanic             None          1  \n202000001090896  Black or African American             None          1  ",
      "text/html": "<div>\n<style scoped>\n    .dataframe tbody tr th:only-of-type {\n        vertical-align: middle;\n    }\n\n    .dataframe tbody tr th {\n        vertical-align: top;\n    }\n\n    .dataframe thead th {\n        text-align: right;\n    }\n</style>\n<table border=\"1\" class=\"dataframe\">\n  <thead>\n    <tr style=\"text-align: right;\">\n      <th></th>\n      <th>INC_DATE</th>\n      <th>INC_YEAR</th>\n      <th>INC_TIME</th>\n      <th>INC_DAY_WEEK</th>\n      <th>INC_LOC_COUNTY</th>\n      <th>HUNDRED_BLOCK</th>\n      <th>INC_CITY</th>\n      <th>INC_STATE</th>\n      <th>INC_ZIPCODE</th>\n      <th>INC_PRECINCT</th>\n      <th>CIT_NUMBER</th>\n      <th>CIT_GENDER</th>\n      <th>CIT_AGE</th>\n      <th>SUBJ_AGE_GROUP</th>\n      <th>CIT_RACE</th>\n      <th>CIT_ETHNICITY</th>\n      <th>SIMPLE_SUBJ_RE_GRP</th>\n      <th>CITIZEN_CHARGE</th>\n      <th>PGP_COUNT</th>\n    </tr>\n    <tr>\n      <th>INC_IR_NO</th>\n      <th></th>\n      <th></th>\n      <th></th>\n      <th></th>\n      <th></th>\n      <th></th>\n      <th></th>\n      <th></th>\n      <th></th>\n      <th></th>\n      <th></th>\n      <th></th>\n      <th></th>\n      <th></th>\n      <th></th>\n      <th></th>\n      <th></th>\n      <th></th>\n      <th></th>\n    </tr>\n  </thead>\n  <tbody>\n    <tr>\n      <th>202000002064678</th>\n      <td>13/01/2020</td>\n      <td>2020</td>\n      <td>20:40</td>\n      <td>Monday</td>\n      <td>825 Beat</td>\n      <td>3XXX West Granada Road</td>\n      <td>Phoenix</td>\n      <td>AZ</td>\n      <td>85009</td>\n      <td>Maryvale/Estrella Precinct</td>\n      <td>24887.0</td>\n      <td>Male</td>\n      <td>21.0</td>\n      <td>20s</td>\n      <td>White</td>\n      <td>Hispanic</td>\n      <td>Hispanic</td>\n      <td>Criminal Felony</td>\n      <td>1</td>\n    </tr>\n    <tr>\n      <th>202000000483210</th>\n      <td>20/03/2020</td>\n      <td>2020</td>\n      <td>19:35</td>\n      <td>Friday</td>\n      <td>931 Beat</td>\n      <td>2XXX West Cactus Road</td>\n      <td>Phoenix</td>\n      <td>AZ</td>\n      <td>85029</td>\n      <td>Cactus Park Precinct</td>\n      <td>38867.0</td>\n      <td>Male</td>\n      <td>38.0</td>\n      <td>30s</td>\n      <td>White</td>\n      <td>Hispanic</td>\n      <td>Hispanic</td>\n      <td>Criminal Felony</td>\n      <td>1</td>\n    </tr>\n    <tr>\n      <th>202100000888204</th>\n      <td>08/06/2020</td>\n      <td>2020</td>\n      <td>10:37</td>\n      <td>Monday</td>\n      <td>223 Beat</td>\n      <td>1XXXX North 9th Avenue</td>\n      <td>Phoenix</td>\n      <td>AZ</td>\n      <td>85023</td>\n      <td>Black Mountain Precinct</td>\n      <td>33042.0</td>\n      <td>Male</td>\n      <td>40.0</td>\n      <td>40s</td>\n      <td>White</td>\n      <td>Non-Hispanic</td>\n      <td>White</td>\n      <td>Criminal Felony</td>\n      <td>1</td>\n    </tr>\n    <tr>\n      <th>202000001090896</th>\n      <td>01/07/2020</td>\n      <td>2020</td>\n      <td>06:30</td>\n      <td>Wednesday</td>\n      <td>815 Beat</td>\n      <td>1XXX 73rd Avenue N</td>\n      <td>Phoenix</td>\n      <td>AZ</td>\n      <td>85035</td>\n      <td>Maryvale/Estrella Precinct</td>\n      <td>21798.0</td>\n      <td>Male</td>\n      <td>27.0</td>\n      <td>20s</td>\n      <td>White</td>\n      <td>Hispanic</td>\n      <td>Hispanic</td>\n      <td>None</td>\n      <td>1</td>\n    </tr>\n    <tr>\n      <th>202000001090896</th>\n      <td>01/07/2020</td>\n      <td>2020</td>\n      <td>06:30</td>\n      <td>Wednesday</td>\n      <td>815 Beat</td>\n      <td>1XXX 73rd Avenue N</td>\n      <td>Phoenix</td>\n      <td>AZ</td>\n      <td>85035</td>\n      <td>Maryvale/Estrella Precinct</td>\n      <td>21793.0</td>\n      <td>Male</td>\n      <td>16.0</td>\n      <td>&lt;20</td>\n      <td>Black</td>\n      <td>Non-Hispanic</td>\n      <td>Black or African American</td>\n      <td>None</td>\n      <td>1</td>\n    </tr>\n  </tbody>\n</table>\n</div>"
     },
     "execution_count": 2,
     "metadata": {},
     "output_type": "execute_result"
    }
   ],
   "source": [
    "df['CIT_RACE'] = df['CIT_RACE'].replace('Not Available', 'Unknown')\n",
    "df['INC_CITY'] = df['INC_CITY'].str.title()\n",
    "df['INC_CITY'] = df['INC_CITY'].replace(['Phx','Phoeix','Phoeniz','Phoenx','Pheonix','Phoenxi','Phoneix'], 'Phoenix')\n",
    "df['CIT_AGE'] = df['CIT_AGE'].replace(['-1', '0', '121'], float('NaN'))\n",
    "df['CIT_AGE'] = df['CIT_AGE'].replace('Not Available', float('NaN')).astype(float)\n",
    "df['CIT_AGE'] = df['CIT_AGE'].astype(float)\n",
    "df['CIT_AGE'].fillna(round(df['CIT_AGE'].mean(), 1), inplace=True)\n",
    "df.head()"
   ],
   "metadata": {
    "collapsed": false,
    "ExecuteTime": {
     "start_time": "2023-06-18T13:55:02.646335Z",
     "end_time": "2023-06-18T13:55:02.771294Z"
    }
   }
  },
  {
   "cell_type": "code",
   "execution_count": 3,
   "outputs": [
    {
     "name": "stdout",
     "output_type": "stream",
     "text": [
      "<class 'pandas.core.frame.DataFrame'>\n",
      "Index: 11612 entries, 202000002064678 to 202300000157115\n",
      "Data columns (total 19 columns):\n",
      " #   Column              Non-Null Count  Dtype  \n",
      "---  ------              --------------  -----  \n",
      " 0   INC_DATE            11612 non-null  object \n",
      " 1   INC_YEAR            11612 non-null  int64  \n",
      " 2   INC_TIME            11612 non-null  object \n",
      " 3   INC_DAY_WEEK        11612 non-null  object \n",
      " 4   INC_LOC_COUNTY      11612 non-null  object \n",
      " 5   HUNDRED_BLOCK       11612 non-null  object \n",
      " 6   INC_CITY            11612 non-null  object \n",
      " 7   INC_STATE           11612 non-null  object \n",
      " 8   INC_ZIPCODE         11612 non-null  object \n",
      " 9   INC_PRECINCT        11612 non-null  object \n",
      " 10  CIT_NUMBER          11608 non-null  float64\n",
      " 11  CIT_GENDER          11612 non-null  object \n",
      " 12  CIT_AGE             11612 non-null  float64\n",
      " 13  SUBJ_AGE_GROUP      11612 non-null  object \n",
      " 14  CIT_RACE            11612 non-null  object \n",
      " 15  CIT_ETHNICITY       11612 non-null  object \n",
      " 16  SIMPLE_SUBJ_RE_GRP  11612 non-null  object \n",
      " 17  CITIZEN_CHARGE      11612 non-null  object \n",
      " 18  PGP_COUNT           11612 non-null  int64  \n",
      "dtypes: float64(2), int64(2), object(15)\n",
      "memory usage: 1.8+ MB\n"
     ]
    }
   ],
   "source": [
    "df.info()"
   ],
   "metadata": {
    "collapsed": false,
    "ExecuteTime": {
     "start_time": "2023-06-18T13:55:02.695299Z",
     "end_time": "2023-06-18T13:55:02.817293Z"
    }
   }
  },
  {
   "cell_type": "code",
   "execution_count": 4,
   "outputs": [
    {
     "data": {
      "text/plain": "count    11612.000000\nmean        31.818378\nstd         11.805106\nmin          1.000000\n25%         23.000000\n50%         31.000000\n75%         38.000000\nmax         91.000000\nName: CIT_AGE, dtype: float64"
     },
     "execution_count": 4,
     "metadata": {},
     "output_type": "execute_result"
    }
   ],
   "source": [
    "df['CIT_AGE'].describe()"
   ],
   "metadata": {
    "collapsed": false,
    "ExecuteTime": {
     "start_time": "2023-06-18T13:55:02.738295Z",
     "end_time": "2023-06-18T13:55:02.818296Z"
    }
   }
  },
  {
   "cell_type": "code",
   "execution_count": 5,
   "outputs": [
    {
     "name": "stdout",
     "output_type": "stream",
     "text": [
      "[21.  38.  40.  27.  16.   1.   5.  31.  30.  33.  67.  13.  39.   8.\n",
      " 28.  53.  23.  19.  37.  41.  47.  74.  48.  22.  32.  31.8 20.  18.\n",
      " 65.  50.  24.  49.  25.  26.  17.  34.  45.  46.  76.  52.  43.  55.\n",
      " 29.  57.  44.  35.  56.   4.   2.  12.  36.  72.  51.  60.  59.  42.\n",
      " 61.  66.  79.  69.  58.  54.  63.   9.  15.  14.  64.  82.   7.   6.\n",
      " 62.  71.   3.  68.  11.  70.  77.  91.  73.  75.  10.  81.  78.  83.\n",
      " 80.  86. ]\n",
      "27.0    440\n",
      "31.0    435\n",
      "28.0    428\n",
      "29.0    396\n",
      "32.0    393\n",
      "       ... \n",
      "80.0      3\n",
      "82.0      2\n",
      "91.0      2\n",
      "81.0      2\n",
      "86.0      1\n",
      "Name: CIT_AGE, Length: 86, dtype: int64\n"
     ]
    }
   ],
   "source": [
    "print(df['CIT_AGE'].unique())\n",
    "obs_counts = df['CIT_AGE'].value_counts()\n",
    "print(obs_counts)"
   ],
   "metadata": {
    "collapsed": false,
    "ExecuteTime": {
     "start_time": "2023-06-18T13:55:02.754295Z",
     "end_time": "2023-06-18T13:55:02.917293Z"
    }
   }
  },
  {
   "cell_type": "markdown",
   "source": [
    "Wybór modelu:"
   ],
   "metadata": {
    "collapsed": false
   }
  },
  {
   "cell_type": "code",
   "execution_count": 6,
   "outputs": [
    {
     "name": "stdout",
     "output_type": "stream",
     "text": [
      "Model: Random Forest\n",
      "Średnie MSE: 0.66\n",
      "Średnie MAE: 0.52\n",
      "----------------------------------------\n",
      "Model: Gradient Boosting\n",
      "Średnie MSE: 0.82\n",
      "Średnie MAE: 0.80\n",
      "----------------------------------------\n",
      "Model: Linear Regression\n",
      "Średnie MSE: 0.57\n",
      "Średnie MAE: 0.62\n",
      "----------------------------------------\n",
      "Błąd średniokwadratowy (MSE) na zbiorze testowym: 0.64\n",
      "Błąd średniego bezwzględnego (MAE) na zbiorze testowym: 0.55\n",
      "F1 miara: 0.53\n",
      "Dokładność (Accuracy): 0.49\n",
      "Precyzja (Precision): 0.84\n",
      "Czułość (Recall): 0.49\n",
      "Macierz pomyłek:\n"
     ]
    },
    {
     "data": {
      "text/plain": "<Figure size 640x480 with 1 Axes>",
      "image/png": "[encoded data removed]"
     },
     "metadata": {},
     "output_type": "display_data"
    }
   ],
   "source": [
    "import numpy as np\n",
    "from sklearn.ensemble import RandomForestRegressor, GradientBoostingRegressor\n",
    "from sklearn.linear_model import LinearRegression\n",
    "from sklearn.model_selection import train_test_split, cross_val_score\n",
    "from sklearn.metrics import accuracy_score, precision_score, recall_score, f1_score, confusion_matrix, mean_squared_error, mean_absolute_error\n",
    "from sklearn.preprocessing import StandardScaler, OneHotEncoder, LabelEncoder\n",
    "from sklearn.compose import ColumnTransformer\n",
    "import seaborn as sns\n",
    "import matplotlib.pyplot as plt\n",
    "\n",
    "numeric_features = ['INC_YEAR', 'CIT_AGE']\n",
    "\n",
    "categorical_features = ['INC_DAY_WEEK', 'INC_LOC_COUNTY', 'INC_CITY', 'INC_ZIPCODE',\n",
    "                        'INC_PRECINCT', 'CIT_GENDER', 'SUBJ_AGE_GROUP', 'CIT_RACE', 'CITIZEN_CHARGE']\n",
    "\n",
    "preprocessor = ColumnTransformer(\n",
    "    transformers=[\n",
    "        ('num', StandardScaler(), numeric_features),\n",
    "        ('cat', OneHotEncoder(handle_unknown='ignore'), categorical_features)])\n",
    "\n",
    "X = df[numeric_features + categorical_features]\n",
    "y = df['SIMPLE_SUBJ_RE_GRP']\n",
    "\n",
    "label_encoder = LabelEncoder()\n",
    "y_encoded = label_encoder.fit_transform(y)\n",
    "\n",
    "X_train, X_test, y_train, y_test = train_test_split(X, y_encoded, test_size=0.2, random_state=1)\n",
    "\n",
    "X_train_preprocessed = preprocessor.fit_transform(X_train)\n",
    "X_test_preprocessed = preprocessor.transform(X_test)\n",
    "\n",
    "models = [\n",
    "    ('Random Forest', RandomForestRegressor(n_estimators=5, random_state=1)),\n",
    "    ('Gradient Boosting', GradientBoostingRegressor(n_estimators=5, random_state=1)),\n",
    "    ('Linear Regression', LinearRegression())\n",
    "]\n",
    "\n",
    "for model_name, model in models:\n",
    "    mse_scores = -cross_val_score(model, X_train_preprocessed, y_train, cv=5, scoring='neg_mean_squared_error')\n",
    "    mae_scores = -cross_val_score(model, X_train_preprocessed, y_train, cv=5, scoring='neg_mean_absolute_error')\n",
    "\n",
    "    mean_mse = mse_scores.mean()\n",
    "    mean_mae = mae_scores.mean()\n",
    "\n",
    "    print(\"Model: {}\".format(model_name))\n",
    "    print(\"Średnie MSE: {:.2f}\".format(mean_mse))\n",
    "    print(\"Średnie MAE: {:.2f}\".format(mean_mae))\n",
    "    print(\"----------------------------------------\")\n",
    "\n",
    "best_model = GradientBoostingRegressor(n_estimators=100, random_state=1)\n",
    "best_model.fit(X_train_preprocessed, y_train)\n",
    "\n",
    "y_pred = best_model.predict(X_test_preprocessed)\n",
    "y_pred_rounded = np.round(y_pred)\n",
    "\n",
    "mse = mean_squared_error(y_test, y_pred_rounded)\n",
    "mae = mean_absolute_error(y_test, y_pred_rounded)\n",
    "f1 = f1_score(y_test, y_pred_rounded, average='weighted')\n",
    "accuracy = accuracy_score(y_test, y_pred_rounded)\n",
    "precision = precision_score(y_test, y_pred_rounded, average='weighted')\n",
    "recall = recall_score(y_test, y_pred_rounded, average='weighted')\n",
    "confusion = confusion_matrix(y_test, y_pred_rounded)\n",
    "\n",
    "print(\"Błąd średniokwadratowy (MSE) na zbiorze testowym: {:.2f}\".format(mse))\n",
    "print(\"Błąd średniego bezwzględnego (MAE) na zbiorze testowym: {:.2f}\".format(mae))\n",
    "print(\"F1 miara: {:.2f}\".format(f1))\n",
    "print(\"Dokładność (Accuracy): {:.2f}\".format(accuracy))\n",
    "print(\"Precyzja (Precision): {:.2f}\".format(precision))\n",
    "print(\"Czułość (Recall): {:.2f}\".format(recall))\n",
    "\n",
    "cm = confusion_matrix(y_test, y_pred_rounded)\n",
    "\n",
    "print(\"Macierz pomyłek:\")\n",
    "sns.heatmap(cm, annot=True, fmt='d', cmap='Blues', cbar=False)\n",
    "plt.xlabel('Predicted')\n",
    "plt.ylabel('Actual')\n",
    "plt.show()"
   ],
   "metadata": {
    "collapsed": false,
    "ExecuteTime": {
     "start_time": "2023-06-18T13:55:02.778294Z",
     "end_time": "2023-06-18T13:55:14.898790Z"
    }
   }
  },
  {
   "cell_type": "code",
   "execution_count": 7,
   "outputs": [
    {
     "name": "stdout",
     "output_type": "stream",
     "text": [
      "Model: Random Forest\n",
      "Średnie MSE: 0.65\n",
      "Średnie MAE: 0.52\n",
      "----------------------------------------\n",
      "Model: Gradient Boosting\n",
      "Średnie MSE: 0.82\n",
      "Średnie MAE: 0.80\n",
      "----------------------------------------\n",
      "Model: Linear Regression\n",
      "Średnie MSE: 0.56\n",
      "Średnie MAE: 0.62\n",
      "----------------------------------------\n",
      "Błąd średniokwadratowy (MSE) na zbiorze testowym: 0.64\n",
      "Błąd średniego bezwzględnego (MAE) na zbiorze testowym: 0.55\n",
      "F1 miara: 0.53\n",
      "Dokładność (Accuracy): 0.49\n",
      "Precyzja (Precision): 0.84\n",
      "Czułość (Recall): 0.49\n",
      "Macierz pomyłek:\n"
     ]
    },
    {
     "data": {
      "text/plain": "<Figure size 640x480 with 1 Axes>",
      "image/png": "[encoded data removed]"
     },
     "metadata": {},
     "output_type": "display_data"
    }
   ],
   "source": [
    "import pandas as pd\n",
    "import numpy as np\n",
    "from sklearn.ensemble import RandomForestRegressor, GradientBoostingRegressor\n",
    "from sklearn.linear_model import LinearRegression\n",
    "from sklearn.model_selection import train_test_split, cross_val_score\n",
    "from sklearn.metrics import accuracy_score, precision_score, recall_score, f1_score, confusion_matrix, mean_squared_error, mean_absolute_error\n",
    "from sklearn.preprocessing import StandardScaler, OneHotEncoder, LabelEncoder\n",
    "from sklearn.compose import ColumnTransformer\n",
    "import seaborn as sns\n",
    "import matplotlib.pyplot as plt\n",
    "\n",
    "numeric_features = ['INC_YEAR', 'CIT_AGE']\n",
    "\n",
    "categorical_features = ['INC_DAY_WEEK', 'INC_LOC_COUNTY', 'INC_CITY', 'INC_ZIPCODE',\n",
    "                        'INC_PRECINCT', 'CIT_GENDER', 'SUBJ_AGE_GROUP', 'CIT_RACE', 'CITIZEN_CHARGE']\n",
    "\n",
    "preprocessor = ColumnTransformer(\n",
    "    transformers=[\n",
    "        ('num', StandardScaler(), numeric_features),\n",
    "        ('cat', OneHotEncoder(handle_unknown='ignore'), categorical_features)])\n",
    "\n",
    "X = df[numeric_features + categorical_features]\n",
    "y = df['SIMPLE_SUBJ_RE_GRP']\n",
    "\n",
    "label_encoder = LabelEncoder()\n",
    "y_encoded = label_encoder.fit_transform(y)\n",
    "\n",
    "X_train, X_test, y_train, y_test = train_test_split(X, y_encoded, test_size=0.2, random_state=1)\n",
    "\n",
    "X_train_preprocessed = preprocessor.fit_transform(X_train)\n",
    "X_test_preprocessed = preprocessor.transform(X_test)\n",
    "\n",
    "models = [\n",
    "    ('Random Forest', RandomForestRegressor(n_estimators=5, random_state=1)),\n",
    "    ('Gradient Boosting', GradientBoostingRegressor(n_estimators=5, random_state=1)),\n",
    "    ('Linear Regression', LinearRegression())\n",
    "]\n",
    "\n",
    "for model_name, model in models:\n",
    "    mse_scores = -cross_val_score(model, X_train_preprocessed, y_train, cv=10, scoring='neg_mean_squared_error')\n",
    "    mae_scores = -cross_val_score(model, X_train_preprocessed, y_train, cv=10, scoring='neg_mean_absolute_error')\n",
    "\n",
    "    mean_mse = mse_scores.mean()\n",
    "    mean_mae = mae_scores.mean()\n",
    "\n",
    "    print(\"Model: {}\".format(model_name))\n",
    "    print(\"Średnie MSE: {:.2f}\".format(mean_mse))\n",
    "    print(\"Średnie MAE: {:.2f}\".format(mean_mae))\n",
    "    print(\"----------------------------------------\")\n",
    "\n",
    "best_model = GradientBoostingRegressor(n_estimators=100, random_state=1)\n",
    "best_model.fit(X_train_preprocessed, y_train)\n",
    "\n",
    "y_pred = best_model.predict(X_test_preprocessed)\n",
    "y_pred_rounded = np.round(y_pred)\n",
    "\n",
    "mse = mean_squared_error(y_test, y_pred_rounded)\n",
    "mae = mean_absolute_error(y_test, y_pred_rounded)\n",
    "f1 = f1_score(y_test, y_pred_rounded, average='weighted')\n",
    "accuracy = accuracy_score(y_test, y_pred_rounded)\n",
    "precision = precision_score(y_test, y_pred_rounded, average='weighted')\n",
    "recall = recall_score(y_test, y_pred_rounded, average='weighted')\n",
    "\n",
    "print(\"Błąd średniokwadratowy (MSE) na zbiorze testowym: {:.2f}\".format(mse))\n",
    "print(\"Błąd średniego bezwzględnego (MAE) na zbiorze testowym: {:.2f}\".format(mae))\n",
    "print(\"F1 miara: {:.2f}\".format(f1))\n",
    "print(\"Dokładność (Accuracy): {:.2f}\".format(accuracy))\n",
    "print(\"Precyzja (Precision): {:.2f}\".format(precision))\n",
    "print(\"Czułość (Recall): {:.2f}\".format(recall))\n",
    "\n",
    "cm = confusion_matrix(y_test, y_pred_rounded)\n",
    "\n",
    "print(\"Macierz pomyłek:\")\n",
    "sns.heatmap(cm, annot=True, fmt='d', cmap='Blues', cbar=False)\n",
    "plt.xlabel('Predicted')\n",
    "plt.ylabel('Actual')\n",
    "plt.show()"
   ],
   "metadata": {
    "collapsed": false,
    "ExecuteTime": {
     "start_time": "2023-06-18T13:55:14.847785Z",
     "end_time": "2023-06-18T13:55:37.333565Z"
    }
   }
  },
  {
   "cell_type": "code",
   "execution_count": 8,
   "outputs": [
    {
     "name": "stdout",
     "output_type": "stream",
     "text": [
      "Brakujące wartości w zbiorze treningowym:\n",
      "INC_YEAR          0\n",
      "CIT_AGE           0\n",
      "INC_DAY_WEEK      0\n",
      "INC_LOC_COUNTY    0\n",
      "INC_CITY          0\n",
      "INC_ZIPCODE       0\n",
      "INC_PRECINCT      0\n",
      "CIT_GENDER        0\n",
      "SUBJ_AGE_GROUP    0\n",
      "CIT_RACE          0\n",
      "CITIZEN_CHARGE    0\n",
      "dtype: int64\n",
      "Brakujące wartości w zbiorze testowym:\n",
      "INC_YEAR          0\n",
      "CIT_AGE           0\n",
      "INC_DAY_WEEK      0\n",
      "INC_LOC_COUNTY    0\n",
      "INC_CITY          0\n",
      "INC_ZIPCODE       0\n",
      "INC_PRECINCT      0\n",
      "CIT_GENDER        0\n",
      "SUBJ_AGE_GROUP    0\n",
      "CIT_RACE          0\n",
      "CITIZEN_CHARGE    0\n",
      "dtype: int64\n"
     ]
    }
   ],
   "source": [
    "missing_values_train = X_train.isnull().sum()\n",
    "print(\"Brakujące wartości w zbiorze treningowym:\")\n",
    "print(missing_values_train)\n",
    "\n",
    "missing_values_test = X_test.isnull().sum()\n",
    "print(\"Brakujące wartości w zbiorze testowym:\")\n",
    "print(missing_values_test)"
   ],
   "metadata": {
    "collapsed": false,
    "ExecuteTime": {
     "start_time": "2023-06-18T13:55:37.337567Z",
     "end_time": "2023-06-18T13:55:37.410595Z"
    }
   }
  },
  {
   "cell_type": "markdown",
   "source": [
    "Optymalizacja modelu:"
   ],
   "metadata": {
    "collapsed": false
   }
  },
  {
   "cell_type": "code",
   "execution_count": 9,
   "outputs": [
    {
     "name": "stdout",
     "output_type": "stream",
     "text": [
      "Najlepsze parametry:  {'learning_rate': 0.1, 'max_depth': 5, 'n_estimators': 100}\n",
      "Błąd średniokwadratowy (MSE) na zbiorze testowym: 0.53\n",
      "Błąd średniego bezwzględnego (MAE) na zbiorze testowym: 0.55\n"
     ]
    }
   ],
   "source": [
    "from sklearn.model_selection import GridSearchCV\n",
    "\n",
    "param_grid = {\n",
    "    'n_estimators': [100, 200, 300],\n",
    "    'learning_rate': [0.01, 0.1, 0.5],\n",
    "    'max_depth': [3, 5, 7]\n",
    "}\n",
    "\n",
    "model = GradientBoostingRegressor(random_state=1)\n",
    "\n",
    "grid_search = GridSearchCV(model, param_grid, cv=5, scoring='neg_mean_squared_error')\n",
    "grid_search.fit(X_train_preprocessed, y_train)\n",
    "\n",
    "best_params = grid_search.best_params_\n",
    "print(\"Najlepsze parametry: \", best_params)\n",
    "\n",
    "best_model = GradientBoostingRegressor(**best_params)\n",
    "\n",
    "best_model.fit(X_train_preprocessed, y_train)\n",
    "\n",
    "y_pred = best_model.predict(X_test_preprocessed)\n",
    "\n",
    "mse = mean_squared_error(y_test, y_pred)\n",
    "mae = mean_absolute_error(y_test, y_pred)\n",
    "\n",
    "print(\"Błąd średniokwadratowy (MSE) na zbiorze testowym: {:.2f}\".format(mse))\n",
    "print(\"Błąd średniego bezwzględnego (MAE) na zbiorze testowym: {:.2f}\".format(mae))"
   ],
   "metadata": {
    "collapsed": false,
    "ExecuteTime": {
     "start_time": "2023-06-18T13:55:37.373595Z",
     "end_time": "2023-06-18T14:00:31.497673Z"
    }
   }
  },
  {
   "cell_type": "markdown",
   "source": [
    "Ważność atrybutów:"
   ],
   "metadata": {
    "collapsed": false
   }
  },
  {
   "cell_type": "code",
   "execution_count": 10,
   "outputs": [
    {
     "name": "stdout",
     "output_type": "stream",
     "text": [
      "Ważności cech:\n",
      "                                     Feature  Importance\n",
      "268                           CIT_RACE_Black    0.727149\n",
      "1                                    CIT_AGE    0.055939\n",
      "246  INC_PRECINCT_Maryvale/Estrella Precinct    0.040032\n",
      "251     INC_PRECINCT_South Mountain Precinct    0.024001\n",
      "241     INC_PRECINCT_Black Mountain Precinct    0.015531\n",
      "..                                       ...         ...\n",
      "189                        INC_ZIPCODE_85225    0.000000\n",
      "188                        INC_ZIPCODE_85224    0.000000\n",
      "186                        INC_ZIPCODE_85212    0.000000\n",
      "183                        INC_ZIPCODE_85208    0.000000\n",
      "138                        INC_ZIPCODE_85011    0.000000\n",
      "\n",
      "[277 rows x 2 columns]\n"
     ]
    }
   ],
   "source": [
    "importance_scores = best_model.feature_importances_\n",
    "\n",
    "categorical_transformer = preprocessor.named_transformers_['cat']\n",
    "onehot_encoder = categorical_transformer\n",
    "feature_names_cat = onehot_encoder.get_feature_names_out(categorical_features)\n",
    "\n",
    "feature_names = numeric_features + list(feature_names_cat)\n",
    "\n",
    "feature_importances = pd.DataFrame({'Feature': feature_names, 'Importance': importance_scores})\n",
    "feature_importances = feature_importances.sort_values(by='Importance', ascending=False)\n",
    "\n",
    "print(\"Ważności cech:\")\n",
    "print(feature_importances)"
   ],
   "metadata": {
    "collapsed": false,
    "ExecuteTime": {
     "start_time": "2023-06-18T14:00:31.500672Z",
     "end_time": "2023-06-18T14:00:31.558672Z"
    }
   }
  },
  {
   "cell_type": "code",
   "execution_count": 1,
   "outputs": [
    {
     "name": "stdout",
     "output_type": "stream",
     "text": [
      "Dash is running on http://127.0.0.1:8050/\n",
      "\n",
      " * Serving Flask app \"__main__\" (lazy loading)\n",
      " * Environment: production\n",
      "\u001B[31m   WARNING: This is a development server. Do not use it in a production deployment.\u001B[0m\n",
      "\u001B[2m   Use a production WSGI server instead.\u001B[0m\n",
      " * Debug mode: off\n"
     ]
    },
    {
     "ename": "TypeError",
     "evalue": "run_simple() got an unexpected keyword argument 'mode'",
     "output_type": "error",
     "traceback": [
      "\u001B[1;31m---------------------------------------------------------------------------\u001B[0m",
      "\u001B[1;31mTypeError\u001B[0m                                 Traceback (most recent call last)",
      "\u001B[1;32m~\\AppData\\Local\\Temp\\ipykernel_14760\\4098211143.py\u001B[0m in \u001B[0;36m<module>\u001B[1;34m\u001B[0m\n\u001B[0;32m    103\u001B[0m \u001B[1;33m\u001B[0m\u001B[0m\n\u001B[0;32m    104\u001B[0m \u001B[1;31m# Uruchomienie aplikacji Dash w Jupyter Notebook\u001B[0m\u001B[1;33m\u001B[0m\u001B[1;33m\u001B[0m\u001B[0m\n\u001B[1;32m--> 105\u001B[1;33m \u001B[0mapp\u001B[0m\u001B[1;33m.\u001B[0m\u001B[0mrun_server\u001B[0m\u001B[1;33m(\u001B[0m\u001B[0mmode\u001B[0m\u001B[1;33m=\u001B[0m\u001B[1;34m'inline'\u001B[0m\u001B[1;33m)\u001B[0m\u001B[1;33m\u001B[0m\u001B[1;33m\u001B[0m\u001B[0m\n\u001B[0m",
      "\u001B[1;32m~\\anaconda3\\lib\\site-packages\\dash\\dash.py\u001B[0m in \u001B[0;36mrun_server\u001B[1;34m(self, *args, **kwargs)\u001B[0m\n\u001B[0;32m   2045\u001B[0m         \u001B[0mSee\u001B[0m\u001B[0;31m \u001B[0m\u001B[0;31m`\u001B[0m\u001B[0mapp\u001B[0m\u001B[1;33m.\u001B[0m\u001B[0mrun\u001B[0m\u001B[0;31m`\u001B[0m \u001B[1;32mfor\u001B[0m \u001B[0musage\u001B[0m \u001B[0minformation\u001B[0m\u001B[1;33m.\u001B[0m\u001B[1;33m\u001B[0m\u001B[1;33m\u001B[0m\u001B[0m\n\u001B[0;32m   2046\u001B[0m         \"\"\"\n\u001B[1;32m-> 2047\u001B[1;33m         \u001B[0mself\u001B[0m\u001B[1;33m.\u001B[0m\u001B[0mrun\u001B[0m\u001B[1;33m(\u001B[0m\u001B[1;33m*\u001B[0m\u001B[0margs\u001B[0m\u001B[1;33m,\u001B[0m \u001B[1;33m**\u001B[0m\u001B[0mkwargs\u001B[0m\u001B[1;33m)\u001B[0m\u001B[1;33m\u001B[0m\u001B[1;33m\u001B[0m\u001B[0m\n\u001B[0m",
      "\u001B[1;32m~\\anaconda3\\lib\\site-packages\\dash\\dash.py\u001B[0m in \u001B[0;36mrun\u001B[1;34m(self, host, port, proxy, debug, dev_tools_ui, dev_tools_props_check, dev_tools_serve_dev_bundles, dev_tools_hot_reload, dev_tools_hot_reload_interval, dev_tools_hot_reload_watch_interval, dev_tools_hot_reload_max_retry, dev_tools_silence_routes_logging, dev_tools_prune_errors, **flask_run_options)\u001B[0m\n\u001B[0;32m   1953\u001B[0m                     \u001B[0mextra_files\u001B[0m\u001B[1;33m.\u001B[0m\u001B[0mappend\u001B[0m\u001B[1;33m(\u001B[0m\u001B[0mpath\u001B[0m\u001B[1;33m)\u001B[0m\u001B[1;33m\u001B[0m\u001B[1;33m\u001B[0m\u001B[0m\n\u001B[0;32m   1954\u001B[0m \u001B[1;33m\u001B[0m\u001B[0m\n\u001B[1;32m-> 1955\u001B[1;33m         \u001B[0mself\u001B[0m\u001B[1;33m.\u001B[0m\u001B[0mserver\u001B[0m\u001B[1;33m.\u001B[0m\u001B[0mrun\u001B[0m\u001B[1;33m(\u001B[0m\u001B[0mhost\u001B[0m\u001B[1;33m=\u001B[0m\u001B[0mhost\u001B[0m\u001B[1;33m,\u001B[0m \u001B[0mport\u001B[0m\u001B[1;33m=\u001B[0m\u001B[0mport\u001B[0m\u001B[1;33m,\u001B[0m \u001B[0mdebug\u001B[0m\u001B[1;33m=\u001B[0m\u001B[0mdebug\u001B[0m\u001B[1;33m,\u001B[0m \u001B[1;33m**\u001B[0m\u001B[0mflask_run_options\u001B[0m\u001B[1;33m)\u001B[0m\u001B[1;33m\u001B[0m\u001B[1;33m\u001B[0m\u001B[0m\n\u001B[0m\u001B[0;32m   1956\u001B[0m \u001B[1;33m\u001B[0m\u001B[0m\n\u001B[0;32m   1957\u001B[0m     \u001B[1;32mdef\u001B[0m \u001B[0menable_pages\u001B[0m\u001B[1;33m(\u001B[0m\u001B[0mself\u001B[0m\u001B[1;33m)\u001B[0m\u001B[1;33m:\u001B[0m\u001B[1;33m\u001B[0m\u001B[1;33m\u001B[0m\u001B[0m\n",
      "\u001B[1;32m~\\anaconda3\\lib\\site-packages\\flask\\app.py\u001B[0m in \u001B[0;36mrun\u001B[1;34m(self, host, port, debug, load_dotenv, **options)\u001B[0m\n\u001B[0;32m    988\u001B[0m \u001B[1;33m\u001B[0m\u001B[0m\n\u001B[0;32m    989\u001B[0m         \u001B[1;32mtry\u001B[0m\u001B[1;33m:\u001B[0m\u001B[1;33m\u001B[0m\u001B[1;33m\u001B[0m\u001B[0m\n\u001B[1;32m--> 990\u001B[1;33m             \u001B[0mrun_simple\u001B[0m\u001B[1;33m(\u001B[0m\u001B[0mhost\u001B[0m\u001B[1;33m,\u001B[0m \u001B[0mport\u001B[0m\u001B[1;33m,\u001B[0m \u001B[0mself\u001B[0m\u001B[1;33m,\u001B[0m \u001B[1;33m**\u001B[0m\u001B[0moptions\u001B[0m\u001B[1;33m)\u001B[0m\u001B[1;33m\u001B[0m\u001B[1;33m\u001B[0m\u001B[0m\n\u001B[0m\u001B[0;32m    991\u001B[0m         \u001B[1;32mfinally\u001B[0m\u001B[1;33m:\u001B[0m\u001B[1;33m\u001B[0m\u001B[1;33m\u001B[0m\u001B[0m\n\u001B[0;32m    992\u001B[0m             \u001B[1;31m# reset the first request information if the development server\u001B[0m\u001B[1;33m\u001B[0m\u001B[1;33m\u001B[0m\u001B[0m\n",
      "\u001B[1;31mTypeError\u001B[0m: run_simple() got an unexpected keyword argument 'mode'"
     ]
    }
   ],
   "source": [
    "import pandas as pd\n",
    "import plotly.express as px\n",
    "import plotly.graph_objects as go\n",
    "import dash\n",
    "from dash import dcc, html\n",
    "from dash.dependencies import Input, Output\n",
    "\n",
    "# Inicjalizacja aplikacji Dash\n",
    "app = dash.Dash(__name__)\n",
    "\n",
    "df = pd.read_csv('pgp_pointed-gun-at-person-details_pgpdetail.csv')\n",
    "\n",
    "plotly_style = {\n",
    "    'height': '400px',\n",
    "    'margin': '10px'\n",
    "}\n",
    "\n",
    "app.layout = html.Div(\n",
    "    style={\n",
    "        'font-family': 'Arial, sans-serif',\n",
    "        'max-width': '800px',\n",
    "        'margin': 'auto',\n",
    "        'padding': '20px'\n",
    "    },\n",
    "    children=[\n",
    "        html.H1(\"Dashboard Projektu\", style={'text-align': 'center'}),\n",
    "\n",
    "        html.H2(\"Opis projektu\"),\n",
    "        html.P(\"Ten projekt ma na celu analizę danych związanych z przestępnościami w określonym regionie. Celem jest przewidzenie grupy przestępstw na podstawie dostępnych cech numerycznych i kategorycznych.\"),\n",
    "\n",
    "        html.H2(\"Wizualizacja danych\"),\n",
    "\n",
    "        html.Div([\n",
    "            html.Label('Typ wykresu:'),\n",
    "            dcc.Dropdown(\n",
    "                id='chart-type-selector',\n",
    "                options=[\n",
    "                    {'label': 'Wykres punktowy', 'value': 'scatter'},\n",
    "                    {'label': 'Histogram', 'value': 'histogram'},\n",
    "                    {'label': 'Wykres słupkowy', 'value': 'bar'}\n",
    "                ],\n",
    "                value='scatter',\n",
    "                clearable=False,\n",
    "                style={'width': '200px'}\n",
    "            )\n",
    "        ], style={'margin-bottom': '20px'}),\n",
    "\n",
    "        html.Div([\n",
    "            html.Label('Wybierz oś X:'),\n",
    "            dcc.Dropdown(\n",
    "                id='x-axis-selector',\n",
    "                options=[{'label': col, 'value': col} for col in df.columns],\n",
    "                value='CIT_AGE',\n",
    "                clearable=False,\n",
    "                style={'width': '200px'}\n",
    "            )\n",
    "        ], style={'margin-bottom': '20px'}),\n",
    "\n",
    "        html.Div([\n",
    "            html.Label('Wybierz oś Y:'),\n",
    "            dcc.Dropdown(\n",
    "                id='y-axis-selector',\n",
    "                options=[{'label': col, 'value': col} for col in df.columns],\n",
    "                value='PGP_COUNT',\n",
    "                clearable=False,\n",
    "                style={'width': '200px'}\n",
    "            )\n",
    "        ], style={'margin-bottom': '20px'}),\n",
    "\n",
    "        html.Div(id='chart-container', style={'margin-bottom': '20px'})\n",
    "    ]\n",
    ")\n",
    "\n",
    "\n",
    "@app.callback(\n",
    "    Output('chart-container', 'children'),\n",
    "    [Input('chart-type-selector', 'value'),\n",
    "     Input('x-axis-selector', 'value'),\n",
    "     Input('y-axis-selector', 'value')]\n",
    ")\n",
    "def update_chart(chart_type, x_axis, y_axis):\n",
    "    if not x_axis or not y_axis:\n",
    "        return html.Div('Wybierz oś X i oś Y, aby wyświetlić wykres.')\n",
    "\n",
    "    if chart_type == 'scatter':\n",
    "        fig = px.scatter(df, x=x_axis, y=y_axis, color='SIMPLE_SUBJ_RE_GRP')\n",
    "    elif chart_type == 'histogram':\n",
    "        fig = px.histogram(df, x=x_axis)\n",
    "    elif chart_type == 'bar':\n",
    "        fig = px.bar(df, x=x_axis, y=y_axis, color='SIMPLE_SUBJ_RE_GRP')\n",
    "    else:\n",
    "        fig = go.Figure()\n",
    "\n",
    "    fig.update_layout(\n",
    "        plotly_style,\n",
    "        title=f'{chart_type.capitalize()}: {y_axis} vs {x_axis}',\n",
    "        xaxis_title=x_axis,\n",
    "        yaxis_title=y_axis\n",
    "    )\n",
    "\n",
    "    return dcc.Graph(figure=fig)\n",
    "\n",
    "\n",
    "# Uruchomienie aplikacji Dash w Jupyter Notebook\n",
    "app.run_server(mode='inline')"
   ],
   "metadata": {
    "collapsed": false,
    "ExecuteTime": {
     "start_time": "2023-06-18T15:48:43.523604Z",
     "end_time": "2023-06-18T15:48:44.500761Z"
    }
   }
  }
 ],
 "metadata": {
  "kernelspec": {
   "display_name": "Python 3",
   "language": "python",
   "name": "python3"
  },
  "language_info": {
   "codemirror_mode": {
    "name": "ipython",
    "version": 2
   },
   "file_extension": ".py",
   "mimetype": "text/x-python",
   "name": "python",
   "nbconvert_exporter": "python",
   "pygments_lexer": "ipython2",
   "version": "2.7.6"
  }
 },
 "nbformat": 4,
 "nbformat_minor": 0
}
